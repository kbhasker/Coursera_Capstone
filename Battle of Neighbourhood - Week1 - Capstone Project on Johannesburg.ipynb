{
 "cells": [
  {
   "cell_type": "markdown",
   "metadata": {},
   "source": [
    "## THE BATTLE OF NEIGHBORHOODS FROM COURSERA CAPSTONE(Johannesburg)"
   ]
  },
  {
   "cell_type": "markdown",
   "metadata": {},
   "source": [
    "### Introduction\n",
    "#### The problem:\n",
    "This project is related to understanding the appropriate location for having a gas station in **South Africa**. The city of choice is  **Johannesburg**. **Johannesburg** is the largest city of **South Africa** and is also one of the 50 largest urban areas of the world. Apart from being the largest city, **Johannesburg** is also most populous city with a population density of >2000 /sq km. The urban population is also very high. The passenger car sales for the past two months(Dec-19 and Jan-20)  was averaging at ~40000 cars in the country with a major contribution from **Johannesburg**.\n",
    "The purpose of this work is to locate an appropriate place for Gas station in **Johannesburg**. The existing Gas Stations locations and their proximity to each other will be analyzed as part of this work.\n",
    "### Data\n",
    "Based on definition of our problem, factors that will influence our decission are:\n",
    "\n",
    "- \tList of location and neighborhoods of Johannesburg \n",
    "- \tNumber of and distance other Gas stations in  the neighborhood, if any\n",
    "\n",
    "### Data Sources\n",
    "- \tMunicipalities  and neighborhoods of Johannesburg from Wikipedia (https://en.wikipedia.org/wiki/City_of_Johannesburg_Metropolitan_Municipality);\n",
    "- \tGeocode information from Geopy;\n",
    "- \tGas stations in Johannesburg from Foursquare\n",
    "\n",
    "\n",
    "Based on definition of our problem, factors that will influence our decision are:\n",
    "- \tnumber of existing restaurants in the neighborhood (any type of restaurant)\n",
    "- \tnumber of and distance to Italian restaurants in the neighborhood, if any\n",
    "- \tdistance of neighborhood from city center\n",
    "\n"
   ]
  }
 ],
 "metadata": {
  "kernelspec": {
   "display_name": "Python 3",
   "language": "python",
   "name": "python3"
  },
  "language_info": {
   "codemirror_mode": {
    "name": "ipython",
    "version": 3
   },
   "file_extension": ".py",
   "mimetype": "text/x-python",
   "name": "python",
   "nbconvert_exporter": "python",
   "pygments_lexer": "ipython3",
   "version": "3.7.3"
  }
 },
 "nbformat": 4,
 "nbformat_minor": 2
}
